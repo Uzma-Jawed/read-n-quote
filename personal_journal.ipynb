{
 "cells": [
  {
   "cell_type": "markdown",
   "id": "a2c39000",
   "metadata": {},
   "source": [
    "**Assignment:4, Project:3**\n",
    "@Uzma_Jawed\n",
    "### Personal Reading Journal and Quote Collector\n",
    "You will build a `command-line` application that helps users log the **books** they read and collect their favorite **quotes**, using Python basics, control flow, data structures, functions, string operations, and file handling."
   ]
  },
  {
   "cell_type": "markdown",
   "id": "602e87ef",
   "metadata": {},
   "source": [
    "Requirements:\n",
    "\n",
    "Book Entry\n",
    "Each book entry must have:\n",
    "Title (string)\n",
    "Author (string)\n",
    "Year Published (integer)\n",
    "Genre(s) (store as a set)\n",
    "Status (string: “reading”, “completed”, “on hold”)\n",
    "Menu Options\n",
    "Add a new book entry (unique title + author)\n",
    "View all books (sorted by year published)\n",
    "Search books by genre or status\n",
    "Update a book’s status or add genres\n",
    "Delete a book entry\n",
    "Quote Collection\n",
    "Add a new quote (text, book title, page number)\n",
    "View all quotes (sorted by book or author)\n",
    "Search quotes by keyword\n",
    "Delete a quote\n",
    "Programming Requirements\n",
    "Use lists, dictionaries, and sets where needed\n",
    "Use loops and if-else for input validation\n",
    "Write at least three user-defined functions\n",
    "All data must be saved to files and loaded at program start\n",
    "All string comparisons should be case-insensitive\n",
    "Analysis Features\n",
    "List all books completed in a user-given year\n",
    "Show the book with the most collected quotes\n",
    "Find the author(s) with the most entries\n",
    "\n",
    "General Instructions\n",
    "Do not use any external libraries\n",
    "Handle invalid input and edge cases\n",
    "Use functions and keep your code modular"
   ]
  }
 ],
 "metadata": {
  "kernelspec": {
   "display_name": "smit_env",
   "language": "python",
   "name": "python3"
  },
  "language_info": {
   "name": "python",
   "version": "3.13.2"
  }
 },
 "nbformat": 4,
 "nbformat_minor": 5
}
