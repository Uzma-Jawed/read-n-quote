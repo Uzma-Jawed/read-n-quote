{
 "cells": [
  {
   "cell_type": "markdown",
   "id": "a2c39000",
   "metadata": {},
   "source": [
    "**Assignment:4, Project:3**\n",
    "@Uzma_Jawed\n",
    "### Personal Reading Journal and Quote Collector\n",
    "You will build a `command-line` application that helps users log the **books** they read and collect their favorite **quotes**, using Python basics, control flow, data structures, functions, string operations, and file handling."
   ]
  }
 ],
 "metadata": {
  "kernelspec": {
   "display_name": "smit_env",
   "language": "python",
   "name": "python3"
  },
  "language_info": {
   "name": "python",
   "version": "3.13.2"
  }
 },
 "nbformat": 4,
 "nbformat_minor": 5
}
